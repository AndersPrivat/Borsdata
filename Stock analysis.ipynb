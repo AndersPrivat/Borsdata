{
 "cells": [
  {
   "cell_type": "code",
   "execution_count": 16,
   "metadata": {},
   "outputs": [],
   "source": [
    "from os import getenv\n",
    "from borsdata_sdk import BorsdataAPI\n",
    "import pandas as pd\n",
    "import matplotlib.pyplot as plt\n",
    "import numpy as np\n",
    "\n",
    "plt.style.use('seaborn-whitegrid')\n",
    "plt.rcParams['figure.dpi'] = 200\n",
    "\n",
    "\n",
    "api_key = '14e98818e51e42928578dd7e421f0e1d'\n",
    "bors_api = BorsdataAPI(api_key)"
   ]
  },
  {
   "cell_type": "code",
   "execution_count": 12,
   "metadata": {},
   "outputs": [],
   "source": [
    "'''report data = {'year': 2018, 'period': 5, 'revenues': 27772.0, 'gross_Income': 7049.0, \n",
    "'operating_Income': 1956.0, 'profit_Before_Tax': 1829.0, 'profit_To_Equity_Holders': 1322.0, \n",
    "'earnings_Per_Share': 5.2103, 'number_Of_Shares': 253.728, 'dividend': 1.85, 'intangible_Assets': 1999.0,\n",
    "'tangible_Assets': 5468.0, 'financial_Assets': 91.0, 'non_Current_Assets': 7558.0, 'cash_And_Equivalents': 737.0, \n",
    "'current_Assets': 10477.0, 'total_Assets': 18035.0, 'total_Equity': 8996.0, 'non_Current_Liabilities': 3681.0, \n",
    "'current_Liabilities': 5358.0, 'total_Liabilities_And_Equity': 18035.0, 'net_Debt': 2667.0, \n",
    "'cash_Flow_From_Operating_Activities': 1090.0, 'cash_Flow_From_Investing_Activities': -723.0, \n",
    "'cash_Flow_From_Financing_Activities': -123.0, 'cash_Flow_For_The_Year': 244.0, 'free_Cash_Flow': 367.0, \n",
    "'stock_Price_Average': 134.95, 'stock_Price_High': 156.9, 'stock_Price_Low': 113.0, \n",
    "'report_Start_Date': '2018-01-01T00:00:00', 'report_End_Date': '2018-12-31T00:00:00', \n",
    "'broken_Fiscal_Year': False}'''\n",
    "\n",
    "def load_report_data():\n",
    "    instruments = bors_api.get_instruments()\n",
    "    reports = {}\n",
    "    idents = []\n",
    "    tickers = []\n",
    "    for instrument in instruments:\n",
    "        stock = instrument.ticker\n",
    "        ident = instrument.insId\n",
    "        reports[ident] = bors_api.get_instrument_reports(ident, 'year')\n",
    "        idents.append(ident)\n",
    "        tickers.append(stock)\n",
    "    return idents, tickers, reports"
   ]
  },
  {
   "cell_type": "code",
   "execution_count": 3,
   "metadata": {},
   "outputs": [],
   "source": []
  },
  {
   "cell_type": "code",
   "execution_count": 13,
   "metadata": {},
   "outputs": [],
   "source": [
    "'''This is not needed to be updated on a regular basis, only once in a while'''\n",
    "idents, tickers, reports = load_report_data()"
   ]
  },
  {
   "cell_type": "code",
   "execution_count": 22,
   "metadata": {},
   "outputs": [
    {
     "name": "stdout",
     "output_type": "stream",
     "text": [
      "1.85\n"
     ]
    }
   ],
   "source": [
    "print(reports[2][0].dividend)"
   ]
  },
  {
   "cell_type": "code",
   "execution_count": 53,
   "metadata": {},
   "outputs": [
    {
     "name": "stdout",
     "output_type": "stream",
     "text": [
      "   id  ticker   close dividend earnings growth_rev_5y growth_ear_5y  \\\n",
      "0   2     AAK  191.05     1.85   5.2103      0.884159      0.864828   \n",
      "1   3     ABB   171.9    6.744   8.5921          None          None   \n",
      "2   6    ACTI   41.45        0  -0.2683      0.986161          None   \n",
      "3   7  ANOD B   12.05      2.5   4.8195      0.965813      0.840284   \n",
      "4   8  ADDT B    3.03        5   9.8438      0.869727      0.921544   \n",
      "5  10    ALFA   147.5        5  10.7734      0.692855      0.882064   \n",
      "6  12    ATRE     245     1.25   0.0323          None          None   \n",
      "7  13    ANOT    2.52        0  -1.0307          None          None   \n",
      "8  14   ARISE   170.4        0   0.6292      0.718115          None   \n",
      "9  17  ASSA B   14.75      3.5   2.4784      0.862967          None   \n",
      "\n",
      "  growth_div_5y equity_ratio   p/e profit_return direct_return  \n",
      "0      0.915877     0.498808  None          None          None  \n",
      "1      0.539171      0.32704  None          None          None  \n",
      "2          None     0.290675  None          None          None  \n",
      "3      0.644394     0.435447  None          None          None  \n",
      "4       0.88355       0.3577  None          None          None  \n",
      "5      0.757858     0.406375  None          None          None  \n",
      "6          None     0.418862  None          None          None  \n",
      "7          None     0.744101  None          None          None  \n",
      "8          None      0.39826  None          None          None  \n",
      "9      0.907478     0.487013  None          None          None  \n"
     ]
    }
   ],
   "source": [
    "#columns = ['id', 'ticker', 'close', 'dividend', 'earnings', 'growth_rev_5y', 'growth_ear_5y', 'growth_div_5y', 'equity_ration']\n",
    "analysis_data = pd.DataFrame()\n",
    "\n",
    "\n",
    "analysis_data['id'] = idents\n",
    "analysis_data['ticker'] = tickers\n",
    "analysis_data['close'] = None\n",
    "analysis_data['dividend'] = None\n",
    "analysis_data['earnings'] = None\n",
    "analysis_data['growth_rev_5y'] = None\n",
    "analysis_data['growth_ear_5y'] = None\n",
    "analysis_data['growth_div_5y'] = None\n",
    "analysis_data['equity_ratio'] = None\n",
    "analysis_data['p/e'] = None\n",
    "analysis_data['profit_return'] = None\n",
    "analysis_data['direct_return'] = None\n",
    "\n",
    "for i, row in analysis_data.iterrows():\n",
    "    row['close'] = prices[i].c\n",
    "    report = reports[int(row['id'])]\n",
    "    \n",
    "    if int(row['id']) in reports.keys() and len(reports[int(row['id'])])>0:\n",
    "        row['dividend'] = report[0].dividend\n",
    "        row['earnings'] = report[0].earnings_Per_Share\n",
    "        if len(report) > 4 and float(report[4].revenues)>0 and (float(report[0].revenues)-float(report[4].revenues))>0:\n",
    "            row['growth_rev_5y'] = np.power(((float(report[0].revenues)-float(report[4].revenues))/float(report[4].revenues)),0.2)\n",
    "        if len(report) > 4 and float(report[4].earnings_Per_Share)>0 and (float(report[0].earnings_Per_Share)-float(report[4].earnings_Per_Share))>0:\n",
    "            row['growth_ear_5y'] = np.power(((float(report[0].earnings_Per_Share)-float(report[4].earnings_Per_Share))/float(report[4].earnings_Per_Share)),0.2)\n",
    "        if len(report) > 4 and float(report[4].dividend)>0 and (float(report[0].dividend)-float(report[4].dividend))>0:\n",
    "            row['growth_div_5y'] = np.power(((float(report[0].dividend)-float(report[4].dividend))/float(report[4].dividend)),0.2)\n",
    "        if float(report[0].total_Assets)>0:\n",
    "            row['equity_ratio']  = float(report[0].total_Equity)/float(report[0].total_Assets)\n",
    "    analysis_data.iloc[i] = row\n"
   ]
  },
  {
   "cell_type": "code",
   "execution_count": 56,
   "metadata": {},
   "outputs": [],
   "source": [
    "'''This should be updated daily'''\n",
    "prices = bors_api.get_instrument_stock_price_last()\n",
    "\n",
    "for i, row in analysis_data.iterrows():\n",
    "    row['close'] = prices[i].c\n",
    "    row['p/e'] = float(prices[i].c)/float(row['earnings']) if row['earnings'] is not None and float(row['earnings'])!=0 else None\n",
    "    row['direct_return'] = float(prices[i].c)/float(row['dividend']) if row['dividend'] is not None and float(row['dividend'])!=0 else None\n",
    "    row['profit_return'] = 1/row['p/e'] if row['p/e'] is not None else None\n",
    "    analysis_data.iloc[i] = row"
   ]
  },
  {
   "cell_type": "code",
   "execution_count": 57,
   "metadata": {},
   "outputs": [
    {
     "name": "stdout",
     "output_type": "stream",
     "text": [
      "   id  ticker   close dividend earnings growth_rev_5y growth_ear_5y  \\\n",
      "0   2     AAK  191.05     1.85   5.2103      0.884159      0.864828   \n",
      "1   3     ABB   171.9    6.744   8.5921          None          None   \n",
      "2   6    ACTI   41.45        0  -0.2683      0.986161          None   \n",
      "3   7  ANOD B   12.05      2.5   4.8195      0.965813      0.840284   \n",
      "4   8  ADDT B    3.03        5   9.8438      0.869727      0.921544   \n",
      "5  10    ALFA   147.5        5  10.7734      0.692855      0.882064   \n",
      "6  12    ATRE     245     1.25   0.0323          None          None   \n",
      "7  13    ANOT    2.52        0  -1.0307          None          None   \n",
      "8  14   ARISE   170.4        0   0.6292      0.718115          None   \n",
      "9  17  ASSA B   14.75      3.5   2.4784      0.862967          None   \n",
      "\n",
      "  growth_div_5y equity_ratio       p/e profit_return direct_return  \n",
      "0      0.915877     0.498808   36.6678     0.0272719        103.27  \n",
      "1      0.539171      0.32704   20.0068     0.0499831       25.4893  \n",
      "2          None     0.290675  -154.491   -0.00647286          None  \n",
      "3      0.644394     0.435447   2.50026      0.399959          4.82  \n",
      "4       0.88355       0.3577  0.307808       3.24878         0.606  \n",
      "5      0.757858     0.406375   13.6911       0.07304          29.5  \n",
      "6          None     0.418862   7585.14   0.000131837           196  \n",
      "7          None     0.744101  -2.44494     -0.409008          None  \n",
      "8          None      0.39826    270.82    0.00369249          None  \n",
      "9      0.907478     0.487013   5.95142      0.168027       4.21429  \n"
     ]
    }
   ],
   "source": [
    "print(analysis_data.head(10))"
   ]
  },
  {
   "cell_type": "code",
   "execution_count": null,
   "metadata": {},
   "outputs": [],
   "source": []
  }
 ],
 "metadata": {
  "kernelspec": {
   "display_name": "Python 3",
   "language": "python",
   "name": "python3"
  },
  "language_info": {
   "codemirror_mode": {
    "name": "ipython",
    "version": 3
   },
   "file_extension": ".py",
   "mimetype": "text/x-python",
   "name": "python",
   "nbconvert_exporter": "python",
   "pygments_lexer": "ipython3",
   "version": "3.7.4"
  }
 },
 "nbformat": 4,
 "nbformat_minor": 2
}
